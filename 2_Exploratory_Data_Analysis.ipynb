{
 "cells": [
  {
   "cell_type": "markdown",
   "metadata": {
    "papermill": {
     "duration": 0.025996,
     "end_time": "2021-01-01T10:35:36.579461",
     "exception": false,
     "start_time": "2021-01-01T10:35:36.553465",
     "status": "completed"
    },
    "tags": []
   },
   "source": [
    "# Task 2: Exploratory Data Analysis\n",
    "\n",
    "### Table of Contents\n",
    "\n",
    "1. [Introduction](#introduction)\n",
    "2. [Univariate Analysis](#univariate-analysis)"
   ]
  },
  {
   "cell_type": "markdown",
   "metadata": {
    "papermill": {
     "duration": 0.0232,
     "end_time": "2021-01-01T10:35:36.625649",
     "exception": false,
     "start_time": "2021-01-01T10:35:36.602449",
     "status": "completed"
    },
    "tags": []
   },
   "source": [
    "## Introduction <a class=\"anchor\" id=\"introduction\"></a>\n",
    "\n",
    "Exploratory data analysis (EDA) is performed on the Ames Housing training dataset, which has been cleaned during data wrangling. Both original training and testing sets have 79 columns describing the features of the homes, but training set has one additional column, which consists of the home prices. The explanation for each column can be found [here](https://www.kaggle.com/c/house-prices-advanced-regression-techniques/data). However, as the percentage of nulls in 5 columns were greater than 80%, these columns were dropped from the training set during data wrangling, and there are 75 remaining columns. The 5 columns are Alley, FireplaceQu, PoolQC, Fence and MiscFeature.\n",
    "\n",
    "There are two purposes in carrying out EDA in this project. The first one, which is also the most important one, is to find insights in order to select the features that helpful in predicting house price. The second purpose is to perform data imputation with the help of EDA. The steps for exploratory data analysis includes univariate and bivariate analysis."
   ]
  },
  {
   "cell_type": "code",
   "execution_count": 1,
   "metadata": {
    "execution": {
     "iopub.execute_input": "2021-01-01T10:35:36.679362Z",
     "iopub.status.busy": "2021-01-01T10:35:36.678630Z",
     "iopub.status.idle": "2021-01-01T10:35:37.843259Z",
     "shell.execute_reply": "2021-01-01T10:35:37.842637Z"
    },
    "papermill": {
     "duration": 1.194646,
     "end_time": "2021-01-01T10:35:37.843406",
     "exception": false,
     "start_time": "2021-01-01T10:35:36.648760",
     "status": "completed"
    },
    "tags": []
   },
   "outputs": [],
   "source": [
    "# Import libraries\n",
    "import os\n",
    "import pandas as pd\n",
    "import numpy as np\n",
    "import seaborn as sns\n",
    "import matplotlib.pyplot as plt\n",
    "pd.set_option('display.max_columns', None)\n",
    "sns.set(style='darkgrid')"
   ]
  },
  {
   "cell_type": "code",
   "execution_count": 2,
   "metadata": {
    "execution": {
     "iopub.execute_input": "2021-01-01T10:35:37.913368Z",
     "iopub.status.busy": "2021-01-01T10:35:37.912520Z",
     "iopub.status.idle": "2021-01-01T10:35:38.035346Z",
     "shell.execute_reply": "2021-01-01T10:35:38.035872Z"
    },
    "papermill": {
     "duration": 0.168567,
     "end_time": "2021-01-01T10:35:38.036019",
     "exception": false,
     "start_time": "2021-01-01T10:35:37.867452",
     "status": "completed"
    },
    "tags": []
   },
   "outputs": [
    {
     "data": {
      "text/html": [
       "<div>\n",
       "<style scoped>\n",
       "    .dataframe tbody tr th:only-of-type {\n",
       "        vertical-align: middle;\n",
       "    }\n",
       "\n",
       "    .dataframe tbody tr th {\n",
       "        vertical-align: top;\n",
       "    }\n",
       "\n",
       "    .dataframe thead th {\n",
       "        text-align: right;\n",
       "    }\n",
       "</style>\n",
       "<table border=\"1\" class=\"dataframe\">\n",
       "  <thead>\n",
       "    <tr style=\"text-align: right;\">\n",
       "      <th></th>\n",
       "      <th>Id</th>\n",
       "      <th>MSSubClass</th>\n",
       "      <th>MSZoning</th>\n",
       "      <th>LotFrontage</th>\n",
       "      <th>LotArea</th>\n",
       "      <th>Street</th>\n",
       "      <th>LotShape</th>\n",
       "      <th>LandContour</th>\n",
       "      <th>Utilities</th>\n",
       "      <th>LotConfig</th>\n",
       "      <th>LandSlope</th>\n",
       "      <th>Neighborhood</th>\n",
       "      <th>Condition1</th>\n",
       "      <th>Condition2</th>\n",
       "      <th>BldgType</th>\n",
       "      <th>HouseStyle</th>\n",
       "      <th>OverallQual</th>\n",
       "      <th>OverallCond</th>\n",
       "      <th>YearBuilt</th>\n",
       "      <th>YearRemodAdd</th>\n",
       "      <th>RoofStyle</th>\n",
       "      <th>RoofMatl</th>\n",
       "      <th>Exterior1st</th>\n",
       "      <th>Exterior2nd</th>\n",
       "      <th>MasVnrType</th>\n",
       "      <th>MasVnrArea</th>\n",
       "      <th>ExterQual</th>\n",
       "      <th>ExterCond</th>\n",
       "      <th>Foundation</th>\n",
       "      <th>BsmtQual</th>\n",
       "      <th>BsmtCond</th>\n",
       "      <th>BsmtExposure</th>\n",
       "      <th>BsmtFinType1</th>\n",
       "      <th>BsmtFinSF1</th>\n",
       "      <th>BsmtFinType2</th>\n",
       "      <th>BsmtFinSF2</th>\n",
       "      <th>BsmtUnfSF</th>\n",
       "      <th>TotalBsmtSF</th>\n",
       "      <th>Heating</th>\n",
       "      <th>HeatingQC</th>\n",
       "      <th>CentralAir</th>\n",
       "      <th>Electrical</th>\n",
       "      <th>1stFlrSF</th>\n",
       "      <th>2ndFlrSF</th>\n",
       "      <th>LowQualFinSF</th>\n",
       "      <th>GrLivArea</th>\n",
       "      <th>BsmtFullBath</th>\n",
       "      <th>BsmtHalfBath</th>\n",
       "      <th>FullBath</th>\n",
       "      <th>HalfBath</th>\n",
       "      <th>BedroomAbvGr</th>\n",
       "      <th>KitchenAbvGr</th>\n",
       "      <th>KitchenQual</th>\n",
       "      <th>TotRmsAbvGrd</th>\n",
       "      <th>Functional</th>\n",
       "      <th>Fireplaces</th>\n",
       "      <th>GarageType</th>\n",
       "      <th>GarageYrBlt</th>\n",
       "      <th>GarageFinish</th>\n",
       "      <th>GarageCars</th>\n",
       "      <th>GarageArea</th>\n",
       "      <th>GarageQual</th>\n",
       "      <th>GarageCond</th>\n",
       "      <th>PavedDrive</th>\n",
       "      <th>WoodDeckSF</th>\n",
       "      <th>OpenPorchSF</th>\n",
       "      <th>EnclosedPorch</th>\n",
       "      <th>3SsnPorch</th>\n",
       "      <th>ScreenPorch</th>\n",
       "      <th>PoolArea</th>\n",
       "      <th>MiscVal</th>\n",
       "      <th>MoSold</th>\n",
       "      <th>YrSold</th>\n",
       "      <th>SaleType</th>\n",
       "      <th>SaleCondition</th>\n",
       "      <th>SalePrice</th>\n",
       "    </tr>\n",
       "  </thead>\n",
       "  <tbody>\n",
       "    <tr>\n",
       "      <th>0</th>\n",
       "      <td>1</td>\n",
       "      <td>60</td>\n",
       "      <td>RL</td>\n",
       "      <td>65.0</td>\n",
       "      <td>8450.0</td>\n",
       "      <td>Pave</td>\n",
       "      <td>Reg</td>\n",
       "      <td>Lvl</td>\n",
       "      <td>AllPub</td>\n",
       "      <td>Inside</td>\n",
       "      <td>Gtl</td>\n",
       "      <td>CollgCr</td>\n",
       "      <td>Norm</td>\n",
       "      <td>Norm</td>\n",
       "      <td>1Fam</td>\n",
       "      <td>2Story</td>\n",
       "      <td>7</td>\n",
       "      <td>5</td>\n",
       "      <td>2003</td>\n",
       "      <td>2003</td>\n",
       "      <td>Gable</td>\n",
       "      <td>CompShg</td>\n",
       "      <td>VinylSd</td>\n",
       "      <td>VinylSd</td>\n",
       "      <td>BrkFace</td>\n",
       "      <td>196.0</td>\n",
       "      <td>Gd</td>\n",
       "      <td>TA</td>\n",
       "      <td>PConc</td>\n",
       "      <td>Gd</td>\n",
       "      <td>TA</td>\n",
       "      <td>No</td>\n",
       "      <td>GLQ</td>\n",
       "      <td>706</td>\n",
       "      <td>Unf</td>\n",
       "      <td>0</td>\n",
       "      <td>150</td>\n",
       "      <td>856</td>\n",
       "      <td>GasA</td>\n",
       "      <td>Ex</td>\n",
       "      <td>Y</td>\n",
       "      <td>SBrkr</td>\n",
       "      <td>856.0</td>\n",
       "      <td>854.0</td>\n",
       "      <td>0.0</td>\n",
       "      <td>1710.0</td>\n",
       "      <td>1</td>\n",
       "      <td>0</td>\n",
       "      <td>2</td>\n",
       "      <td>1</td>\n",
       "      <td>3</td>\n",
       "      <td>1</td>\n",
       "      <td>Gd</td>\n",
       "      <td>8</td>\n",
       "      <td>Typ</td>\n",
       "      <td>0</td>\n",
       "      <td>Attchd</td>\n",
       "      <td>2003</td>\n",
       "      <td>RFn</td>\n",
       "      <td>2</td>\n",
       "      <td>548</td>\n",
       "      <td>TA</td>\n",
       "      <td>TA</td>\n",
       "      <td>Y</td>\n",
       "      <td>0.0</td>\n",
       "      <td>61.0</td>\n",
       "      <td>0.0</td>\n",
       "      <td>0.0</td>\n",
       "      <td>0.0</td>\n",
       "      <td>0.0</td>\n",
       "      <td>0.0</td>\n",
       "      <td>2</td>\n",
       "      <td>2008</td>\n",
       "      <td>WD</td>\n",
       "      <td>Normal</td>\n",
       "      <td>208500</td>\n",
       "    </tr>\n",
       "    <tr>\n",
       "      <th>1</th>\n",
       "      <td>2</td>\n",
       "      <td>20</td>\n",
       "      <td>RL</td>\n",
       "      <td>80.0</td>\n",
       "      <td>9600.0</td>\n",
       "      <td>Pave</td>\n",
       "      <td>Reg</td>\n",
       "      <td>Lvl</td>\n",
       "      <td>AllPub</td>\n",
       "      <td>FR2</td>\n",
       "      <td>Gtl</td>\n",
       "      <td>Veenker</td>\n",
       "      <td>Feedr</td>\n",
       "      <td>Norm</td>\n",
       "      <td>1Fam</td>\n",
       "      <td>1Story</td>\n",
       "      <td>6</td>\n",
       "      <td>8</td>\n",
       "      <td>1976</td>\n",
       "      <td>1976</td>\n",
       "      <td>Gable</td>\n",
       "      <td>CompShg</td>\n",
       "      <td>MetalSd</td>\n",
       "      <td>MetalSd</td>\n",
       "      <td>None</td>\n",
       "      <td>0.0</td>\n",
       "      <td>TA</td>\n",
       "      <td>TA</td>\n",
       "      <td>CBlock</td>\n",
       "      <td>Gd</td>\n",
       "      <td>TA</td>\n",
       "      <td>Gd</td>\n",
       "      <td>ALQ</td>\n",
       "      <td>978</td>\n",
       "      <td>Unf</td>\n",
       "      <td>0</td>\n",
       "      <td>284</td>\n",
       "      <td>1262</td>\n",
       "      <td>GasA</td>\n",
       "      <td>Ex</td>\n",
       "      <td>Y</td>\n",
       "      <td>SBrkr</td>\n",
       "      <td>1262.0</td>\n",
       "      <td>0.0</td>\n",
       "      <td>0.0</td>\n",
       "      <td>1262.0</td>\n",
       "      <td>0</td>\n",
       "      <td>1</td>\n",
       "      <td>2</td>\n",
       "      <td>0</td>\n",
       "      <td>3</td>\n",
       "      <td>1</td>\n",
       "      <td>TA</td>\n",
       "      <td>6</td>\n",
       "      <td>Typ</td>\n",
       "      <td>1</td>\n",
       "      <td>Attchd</td>\n",
       "      <td>1976</td>\n",
       "      <td>RFn</td>\n",
       "      <td>2</td>\n",
       "      <td>460</td>\n",
       "      <td>TA</td>\n",
       "      <td>TA</td>\n",
       "      <td>Y</td>\n",
       "      <td>298.0</td>\n",
       "      <td>0.0</td>\n",
       "      <td>0.0</td>\n",
       "      <td>0.0</td>\n",
       "      <td>0.0</td>\n",
       "      <td>0.0</td>\n",
       "      <td>0.0</td>\n",
       "      <td>5</td>\n",
       "      <td>2007</td>\n",
       "      <td>WD</td>\n",
       "      <td>Normal</td>\n",
       "      <td>181500</td>\n",
       "    </tr>\n",
       "    <tr>\n",
       "      <th>2</th>\n",
       "      <td>3</td>\n",
       "      <td>60</td>\n",
       "      <td>RL</td>\n",
       "      <td>68.0</td>\n",
       "      <td>11250.0</td>\n",
       "      <td>Pave</td>\n",
       "      <td>IR1</td>\n",
       "      <td>Lvl</td>\n",
       "      <td>AllPub</td>\n",
       "      <td>Inside</td>\n",
       "      <td>Gtl</td>\n",
       "      <td>CollgCr</td>\n",
       "      <td>Norm</td>\n",
       "      <td>Norm</td>\n",
       "      <td>1Fam</td>\n",
       "      <td>2Story</td>\n",
       "      <td>7</td>\n",
       "      <td>5</td>\n",
       "      <td>2001</td>\n",
       "      <td>2002</td>\n",
       "      <td>Gable</td>\n",
       "      <td>CompShg</td>\n",
       "      <td>VinylSd</td>\n",
       "      <td>VinylSd</td>\n",
       "      <td>BrkFace</td>\n",
       "      <td>162.0</td>\n",
       "      <td>Gd</td>\n",
       "      <td>TA</td>\n",
       "      <td>PConc</td>\n",
       "      <td>Gd</td>\n",
       "      <td>TA</td>\n",
       "      <td>Mn</td>\n",
       "      <td>GLQ</td>\n",
       "      <td>486</td>\n",
       "      <td>Unf</td>\n",
       "      <td>0</td>\n",
       "      <td>434</td>\n",
       "      <td>920</td>\n",
       "      <td>GasA</td>\n",
       "      <td>Ex</td>\n",
       "      <td>Y</td>\n",
       "      <td>SBrkr</td>\n",
       "      <td>920.0</td>\n",
       "      <td>866.0</td>\n",
       "      <td>0.0</td>\n",
       "      <td>1786.0</td>\n",
       "      <td>1</td>\n",
       "      <td>0</td>\n",
       "      <td>2</td>\n",
       "      <td>1</td>\n",
       "      <td>3</td>\n",
       "      <td>1</td>\n",
       "      <td>Gd</td>\n",
       "      <td>6</td>\n",
       "      <td>Typ</td>\n",
       "      <td>1</td>\n",
       "      <td>Attchd</td>\n",
       "      <td>2001</td>\n",
       "      <td>RFn</td>\n",
       "      <td>2</td>\n",
       "      <td>608</td>\n",
       "      <td>TA</td>\n",
       "      <td>TA</td>\n",
       "      <td>Y</td>\n",
       "      <td>0.0</td>\n",
       "      <td>42.0</td>\n",
       "      <td>0.0</td>\n",
       "      <td>0.0</td>\n",
       "      <td>0.0</td>\n",
       "      <td>0.0</td>\n",
       "      <td>0.0</td>\n",
       "      <td>9</td>\n",
       "      <td>2008</td>\n",
       "      <td>WD</td>\n",
       "      <td>Normal</td>\n",
       "      <td>223500</td>\n",
       "    </tr>\n",
       "    <tr>\n",
       "      <th>3</th>\n",
       "      <td>4</td>\n",
       "      <td>70</td>\n",
       "      <td>RL</td>\n",
       "      <td>60.0</td>\n",
       "      <td>9550.0</td>\n",
       "      <td>Pave</td>\n",
       "      <td>IR1</td>\n",
       "      <td>Lvl</td>\n",
       "      <td>AllPub</td>\n",
       "      <td>Corner</td>\n",
       "      <td>Gtl</td>\n",
       "      <td>Crawfor</td>\n",
       "      <td>Norm</td>\n",
       "      <td>Norm</td>\n",
       "      <td>1Fam</td>\n",
       "      <td>2Story</td>\n",
       "      <td>7</td>\n",
       "      <td>5</td>\n",
       "      <td>1915</td>\n",
       "      <td>1970</td>\n",
       "      <td>Gable</td>\n",
       "      <td>CompShg</td>\n",
       "      <td>Wd Sdng</td>\n",
       "      <td>WdShing</td>\n",
       "      <td>None</td>\n",
       "      <td>0.0</td>\n",
       "      <td>TA</td>\n",
       "      <td>TA</td>\n",
       "      <td>BrkTil</td>\n",
       "      <td>TA</td>\n",
       "      <td>Gd</td>\n",
       "      <td>No</td>\n",
       "      <td>ALQ</td>\n",
       "      <td>216</td>\n",
       "      <td>Unf</td>\n",
       "      <td>0</td>\n",
       "      <td>540</td>\n",
       "      <td>756</td>\n",
       "      <td>GasA</td>\n",
       "      <td>Gd</td>\n",
       "      <td>Y</td>\n",
       "      <td>SBrkr</td>\n",
       "      <td>961.0</td>\n",
       "      <td>756.0</td>\n",
       "      <td>0.0</td>\n",
       "      <td>1717.0</td>\n",
       "      <td>1</td>\n",
       "      <td>0</td>\n",
       "      <td>1</td>\n",
       "      <td>0</td>\n",
       "      <td>3</td>\n",
       "      <td>1</td>\n",
       "      <td>Gd</td>\n",
       "      <td>7</td>\n",
       "      <td>Typ</td>\n",
       "      <td>1</td>\n",
       "      <td>Detchd</td>\n",
       "      <td>1998</td>\n",
       "      <td>Unf</td>\n",
       "      <td>3</td>\n",
       "      <td>642</td>\n",
       "      <td>TA</td>\n",
       "      <td>TA</td>\n",
       "      <td>Y</td>\n",
       "      <td>0.0</td>\n",
       "      <td>35.0</td>\n",
       "      <td>272.0</td>\n",
       "      <td>0.0</td>\n",
       "      <td>0.0</td>\n",
       "      <td>0.0</td>\n",
       "      <td>0.0</td>\n",
       "      <td>2</td>\n",
       "      <td>2006</td>\n",
       "      <td>WD</td>\n",
       "      <td>Abnorml</td>\n",
       "      <td>140000</td>\n",
       "    </tr>\n",
       "    <tr>\n",
       "      <th>4</th>\n",
       "      <td>5</td>\n",
       "      <td>60</td>\n",
       "      <td>RL</td>\n",
       "      <td>84.0</td>\n",
       "      <td>14260.0</td>\n",
       "      <td>Pave</td>\n",
       "      <td>IR1</td>\n",
       "      <td>Lvl</td>\n",
       "      <td>AllPub</td>\n",
       "      <td>FR2</td>\n",
       "      <td>Gtl</td>\n",
       "      <td>NoRidge</td>\n",
       "      <td>Norm</td>\n",
       "      <td>Norm</td>\n",
       "      <td>1Fam</td>\n",
       "      <td>2Story</td>\n",
       "      <td>8</td>\n",
       "      <td>5</td>\n",
       "      <td>2000</td>\n",
       "      <td>2000</td>\n",
       "      <td>Gable</td>\n",
       "      <td>CompShg</td>\n",
       "      <td>VinylSd</td>\n",
       "      <td>VinylSd</td>\n",
       "      <td>BrkFace</td>\n",
       "      <td>350.0</td>\n",
       "      <td>Gd</td>\n",
       "      <td>TA</td>\n",
       "      <td>PConc</td>\n",
       "      <td>Gd</td>\n",
       "      <td>TA</td>\n",
       "      <td>Av</td>\n",
       "      <td>GLQ</td>\n",
       "      <td>655</td>\n",
       "      <td>Unf</td>\n",
       "      <td>0</td>\n",
       "      <td>490</td>\n",
       "      <td>1145</td>\n",
       "      <td>GasA</td>\n",
       "      <td>Ex</td>\n",
       "      <td>Y</td>\n",
       "      <td>SBrkr</td>\n",
       "      <td>1145.0</td>\n",
       "      <td>1053.0</td>\n",
       "      <td>0.0</td>\n",
       "      <td>2198.0</td>\n",
       "      <td>1</td>\n",
       "      <td>0</td>\n",
       "      <td>2</td>\n",
       "      <td>1</td>\n",
       "      <td>4</td>\n",
       "      <td>1</td>\n",
       "      <td>Gd</td>\n",
       "      <td>9</td>\n",
       "      <td>Typ</td>\n",
       "      <td>1</td>\n",
       "      <td>Attchd</td>\n",
       "      <td>2000</td>\n",
       "      <td>RFn</td>\n",
       "      <td>3</td>\n",
       "      <td>836</td>\n",
       "      <td>TA</td>\n",
       "      <td>TA</td>\n",
       "      <td>Y</td>\n",
       "      <td>192.0</td>\n",
       "      <td>84.0</td>\n",
       "      <td>0.0</td>\n",
       "      <td>0.0</td>\n",
       "      <td>0.0</td>\n",
       "      <td>0.0</td>\n",
       "      <td>0.0</td>\n",
       "      <td>12</td>\n",
       "      <td>2008</td>\n",
       "      <td>WD</td>\n",
       "      <td>Normal</td>\n",
       "      <td>250000</td>\n",
       "    </tr>\n",
       "  </tbody>\n",
       "</table>\n",
       "</div>"
      ],
      "text/plain": [
       "   Id  MSSubClass MSZoning  LotFrontage  LotArea Street LotShape LandContour  \\\n",
       "0   1          60       RL         65.0   8450.0   Pave      Reg         Lvl   \n",
       "1   2          20       RL         80.0   9600.0   Pave      Reg         Lvl   \n",
       "2   3          60       RL         68.0  11250.0   Pave      IR1         Lvl   \n",
       "3   4          70       RL         60.0   9550.0   Pave      IR1         Lvl   \n",
       "4   5          60       RL         84.0  14260.0   Pave      IR1         Lvl   \n",
       "\n",
       "  Utilities LotConfig LandSlope Neighborhood Condition1 Condition2 BldgType  \\\n",
       "0    AllPub    Inside       Gtl      CollgCr       Norm       Norm     1Fam   \n",
       "1    AllPub       FR2       Gtl      Veenker      Feedr       Norm     1Fam   \n",
       "2    AllPub    Inside       Gtl      CollgCr       Norm       Norm     1Fam   \n",
       "3    AllPub    Corner       Gtl      Crawfor       Norm       Norm     1Fam   \n",
       "4    AllPub       FR2       Gtl      NoRidge       Norm       Norm     1Fam   \n",
       "\n",
       "  HouseStyle  OverallQual  OverallCond  YearBuilt  YearRemodAdd RoofStyle  \\\n",
       "0     2Story            7            5       2003          2003     Gable   \n",
       "1     1Story            6            8       1976          1976     Gable   \n",
       "2     2Story            7            5       2001          2002     Gable   \n",
       "3     2Story            7            5       1915          1970     Gable   \n",
       "4     2Story            8            5       2000          2000     Gable   \n",
       "\n",
       "  RoofMatl Exterior1st Exterior2nd MasVnrType  MasVnrArea ExterQual ExterCond  \\\n",
       "0  CompShg     VinylSd     VinylSd    BrkFace       196.0        Gd        TA   \n",
       "1  CompShg     MetalSd     MetalSd       None         0.0        TA        TA   \n",
       "2  CompShg     VinylSd     VinylSd    BrkFace       162.0        Gd        TA   \n",
       "3  CompShg     Wd Sdng     WdShing       None         0.0        TA        TA   \n",
       "4  CompShg     VinylSd     VinylSd    BrkFace       350.0        Gd        TA   \n",
       "\n",
       "  Foundation BsmtQual BsmtCond BsmtExposure BsmtFinType1  BsmtFinSF1  \\\n",
       "0      PConc       Gd       TA           No          GLQ         706   \n",
       "1     CBlock       Gd       TA           Gd          ALQ         978   \n",
       "2      PConc       Gd       TA           Mn          GLQ         486   \n",
       "3     BrkTil       TA       Gd           No          ALQ         216   \n",
       "4      PConc       Gd       TA           Av          GLQ         655   \n",
       "\n",
       "  BsmtFinType2  BsmtFinSF2  BsmtUnfSF  TotalBsmtSF Heating HeatingQC  \\\n",
       "0          Unf           0        150          856    GasA        Ex   \n",
       "1          Unf           0        284         1262    GasA        Ex   \n",
       "2          Unf           0        434          920    GasA        Ex   \n",
       "3          Unf           0        540          756    GasA        Gd   \n",
       "4          Unf           0        490         1145    GasA        Ex   \n",
       "\n",
       "  CentralAir Electrical  1stFlrSF  2ndFlrSF  LowQualFinSF  GrLivArea  \\\n",
       "0          Y      SBrkr     856.0     854.0           0.0     1710.0   \n",
       "1          Y      SBrkr    1262.0       0.0           0.0     1262.0   \n",
       "2          Y      SBrkr     920.0     866.0           0.0     1786.0   \n",
       "3          Y      SBrkr     961.0     756.0           0.0     1717.0   \n",
       "4          Y      SBrkr    1145.0    1053.0           0.0     2198.0   \n",
       "\n",
       "   BsmtFullBath  BsmtHalfBath  FullBath  HalfBath  BedroomAbvGr  KitchenAbvGr  \\\n",
       "0             1             0         2         1             3             1   \n",
       "1             0             1         2         0             3             1   \n",
       "2             1             0         2         1             3             1   \n",
       "3             1             0         1         0             3             1   \n",
       "4             1             0         2         1             4             1   \n",
       "\n",
       "  KitchenQual  TotRmsAbvGrd Functional  Fireplaces GarageType  GarageYrBlt  \\\n",
       "0          Gd             8        Typ           0     Attchd         2003   \n",
       "1          TA             6        Typ           1     Attchd         1976   \n",
       "2          Gd             6        Typ           1     Attchd         2001   \n",
       "3          Gd             7        Typ           1     Detchd         1998   \n",
       "4          Gd             9        Typ           1     Attchd         2000   \n",
       "\n",
       "  GarageFinish  GarageCars  GarageArea GarageQual GarageCond PavedDrive  \\\n",
       "0          RFn           2         548         TA         TA          Y   \n",
       "1          RFn           2         460         TA         TA          Y   \n",
       "2          RFn           2         608         TA         TA          Y   \n",
       "3          Unf           3         642         TA         TA          Y   \n",
       "4          RFn           3         836         TA         TA          Y   \n",
       "\n",
       "   WoodDeckSF  OpenPorchSF  EnclosedPorch  3SsnPorch  ScreenPorch  PoolArea  \\\n",
       "0         0.0         61.0            0.0        0.0          0.0       0.0   \n",
       "1       298.0          0.0            0.0        0.0          0.0       0.0   \n",
       "2         0.0         42.0            0.0        0.0          0.0       0.0   \n",
       "3         0.0         35.0          272.0        0.0          0.0       0.0   \n",
       "4       192.0         84.0            0.0        0.0          0.0       0.0   \n",
       "\n",
       "   MiscVal  MoSold  YrSold SaleType SaleCondition  SalePrice  \n",
       "0      0.0       2    2008       WD        Normal     208500  \n",
       "1      0.0       5    2007       WD        Normal     181500  \n",
       "2      0.0       9    2008       WD        Normal     223500  \n",
       "3      0.0       2    2006       WD       Abnorml     140000  \n",
       "4      0.0      12    2008       WD        Normal     250000  "
      ]
     },
     "execution_count": 2,
     "metadata": {},
     "output_type": "execute_result"
    }
   ],
   "source": [
    "# Define URLs of training sets\n",
    "dirname = '/kaggle/input'\n",
    "subdirname = 'dataset'\n",
    "train_filename = 'train_cleaned.csv'\n",
    "train_filepath = os.path.join(dirname, subdirname, train_filename)\n",
    "\n",
    "# Load training and testing sets\n",
    "df = pd.read_csv(train_filepath)\n",
    "\n",
    "df.head()"
   ]
  },
  {
   "cell_type": "code",
   "execution_count": 3,
   "metadata": {
    "execution": {
     "iopub.execute_input": "2021-01-01T10:35:38.091391Z",
     "iopub.status.busy": "2021-01-01T10:35:38.090349Z",
     "iopub.status.idle": "2021-01-01T10:35:38.095301Z",
     "shell.execute_reply": "2021-01-01T10:35:38.094747Z"
    },
    "papermill": {
     "duration": 0.034247,
     "end_time": "2021-01-01T10:35:38.095427",
     "exception": false,
     "start_time": "2021-01-01T10:35:38.061180",
     "status": "completed"
    },
    "tags": []
   },
   "outputs": [
    {
     "data": {
      "text/plain": [
       "(1460, 76)"
      ]
     },
     "execution_count": 3,
     "metadata": {},
     "output_type": "execute_result"
    }
   ],
   "source": [
    "df.shape"
   ]
  },
  {
   "cell_type": "code",
   "execution_count": 4,
   "metadata": {
    "execution": {
     "iopub.execute_input": "2021-01-01T10:35:38.152576Z",
     "iopub.status.busy": "2021-01-01T10:35:38.151637Z",
     "iopub.status.idle": "2021-01-01T10:35:38.156551Z",
     "shell.execute_reply": "2021-01-01T10:35:38.155863Z"
    },
    "papermill": {
     "duration": 0.036037,
     "end_time": "2021-01-01T10:35:38.156664",
     "exception": false,
     "start_time": "2021-01-01T10:35:38.120627",
     "status": "completed"
    },
    "tags": []
   },
   "outputs": [
    {
     "data": {
      "text/plain": [
       "Index(['Id', 'MSSubClass', 'MSZoning', 'LotFrontage', 'LotArea', 'Street',\n",
       "       'LotShape', 'LandContour', 'Utilities', 'LotConfig', 'LandSlope',\n",
       "       'Neighborhood', 'Condition1', 'Condition2', 'BldgType', 'HouseStyle',\n",
       "       'OverallQual', 'OverallCond', 'YearBuilt', 'YearRemodAdd', 'RoofStyle',\n",
       "       'RoofMatl', 'Exterior1st', 'Exterior2nd', 'MasVnrType', 'MasVnrArea',\n",
       "       'ExterQual', 'ExterCond', 'Foundation', 'BsmtQual', 'BsmtCond',\n",
       "       'BsmtExposure', 'BsmtFinType1', 'BsmtFinSF1', 'BsmtFinType2',\n",
       "       'BsmtFinSF2', 'BsmtUnfSF', 'TotalBsmtSF', 'Heating', 'HeatingQC',\n",
       "       'CentralAir', 'Electrical', '1stFlrSF', '2ndFlrSF', 'LowQualFinSF',\n",
       "       'GrLivArea', 'BsmtFullBath', 'BsmtHalfBath', 'FullBath', 'HalfBath',\n",
       "       'BedroomAbvGr', 'KitchenAbvGr', 'KitchenQual', 'TotRmsAbvGrd',\n",
       "       'Functional', 'Fireplaces', 'GarageType', 'GarageYrBlt', 'GarageFinish',\n",
       "       'GarageCars', 'GarageArea', 'GarageQual', 'GarageCond', 'PavedDrive',\n",
       "       'WoodDeckSF', 'OpenPorchSF', 'EnclosedPorch', '3SsnPorch',\n",
       "       'ScreenPorch', 'PoolArea', 'MiscVal', 'MoSold', 'YrSold', 'SaleType',\n",
       "       'SaleCondition', 'SalePrice'],\n",
       "      dtype='object')"
      ]
     },
     "execution_count": 4,
     "metadata": {},
     "output_type": "execute_result"
    }
   ],
   "source": [
    "# Print columns of data frame\n",
    "df.columns"
   ]
  },
  {
   "cell_type": "markdown",
   "metadata": {
    "papermill": {
     "duration": 0.026178,
     "end_time": "2021-01-01T10:35:38.208292",
     "exception": false,
     "start_time": "2021-01-01T10:35:38.182114",
     "status": "completed"
    },
    "tags": []
   },
   "source": [
    "- 75 variables (excld. ID)\n",
    "- 34 numeric variables\n",
    "    - 14 discrete variables (YearBuilt, YearRemodAdd, BsmtFullBath, BsmtHalfBath, FullBath, HalfBath, BedroomAbvGr, KitchenAbvGr, TotRmsAbvGrd, Fireplaces, GarageYrBlt, GarageCars, MoSold, YrSold)\n",
    "\n",
    "    - 20 continuous variables (LotFrontage, LotArea, MasVnrArea, BsmtFinSF1, BsmtFinSF2, BsmtUnfSF, TotalBsmtSF, 1stFlrSF, 2ndFlrSF, LowQualFinSF, GrLivArea, GarageArea, WoodDeckSF, OpenPorchSF, EnclosedPorch, 3SsnPorch, ScreenPorch, PoolArea, MiscVal, SalePrice)\n",
    "\n",
    "- 41 categorical variables\n",
    "    - 23 nominal variables (MSSubClass, MSZoning, Street, Utilities, LotConfig, Neighborhood, Condition1, Condition2, BldgType, HouseStyle, RoofStyle, RoofMatl, Exterior1st, Exterior2nd, MasVnrType, Foundation, Heating, CentralAir, Electrical, GarageType, PavedDrive, SaleType, SaleCondition)\n",
    "\n",
    "    - 18 ordinal variables (LotShape, LandContour, LandSlope, OverallQual, OverallCond, ExterQual, ExterCond, BsmtQual, BsmtCond, BsmtExposure, BsmtFinType1, BsmtFinType2, HeatingQC, KitchenQual, Functional, GarageFinish, GarageQual, GarageCond)"
   ]
  },
  {
   "cell_type": "markdown",
   "metadata": {
    "papermill": {
     "duration": 0.024965,
     "end_time": "2021-01-01T10:35:38.258640",
     "exception": false,
     "start_time": "2021-01-01T10:35:38.233675",
     "status": "completed"
    },
    "tags": []
   },
   "source": [
    "## Univariate Analysis <a class=\"anchor\" id=\"#univariate-analysis\"></a>\n",
    "\n",
    "As the main goal of this project is to determine house prices, the distribution of house price in training set will be plotted and studied."
   ]
  },
  {
   "cell_type": "code",
   "execution_count": 5,
   "metadata": {
    "execution": {
     "iopub.execute_input": "2021-01-01T10:35:38.317422Z",
     "iopub.status.busy": "2021-01-01T10:35:38.316652Z",
     "iopub.status.idle": "2021-01-01T10:35:38.740094Z",
     "shell.execute_reply": "2021-01-01T10:35:38.740880Z"
    },
    "papermill": {
     "duration": 0.45705,
     "end_time": "2021-01-01T10:35:38.741045",
     "exception": false,
     "start_time": "2021-01-01T10:35:38.283995",
     "status": "completed"
    },
    "tags": []
   },
   "outputs": [
    {
     "data": {
      "image/png": "[encoded data removed]",
      "text/plain": [
       "<Figure size 432x288 with 1 Axes>"
      ]
     },
     "metadata": {},
     "output_type": "display_data"
    }
   ],
   "source": [
    "# Define bin size and bin intervals\n",
    "binsize = 20000\n",
    "bins = np.arange(df['SalePrice'].min(), df['SalePrice'].max()+binsize, binsize)\n",
    "\n",
    "# Plot distribution of house price\n",
    "plt.hist(df['SalePrice'], bins = bins);\n",
    "plt.xlabel('Sale Price');\n",
    "plt.xticks(rotation=90);\n",
    "plt.ylabel('Count');"
   ]
  },
  {
   "cell_type": "markdown",
   "metadata": {
    "papermill": {
     "duration": 0.026355,
     "end_time": "2021-01-01T10:35:38.799337",
     "exception": false,
     "start_time": "2021-01-01T10:35:38.772982",
     "status": "completed"
    },
    "tags": []
   },
   "source": [
    "As the distribution is right-skewed, let's plot the distribution on a log-scale."
   ]
  },
  {
   "cell_type": "code",
   "execution_count": 6,
   "metadata": {
    "execution": {
     "iopub.execute_input": "2021-01-01T10:35:38.871594Z",
     "iopub.status.busy": "2021-01-01T10:35:38.862141Z",
     "iopub.status.idle": "2021-01-01T10:35:39.483402Z",
     "shell.execute_reply": "2021-01-01T10:35:39.482615Z"
    },
    "papermill": {
     "duration": 0.656827,
     "end_time": "2021-01-01T10:35:39.483536",
     "exception": false,
     "start_time": "2021-01-01T10:35:38.826709",
     "status": "completed"
    },
    "tags": []
   },
   "outputs": [
    {
     "data": {
      "image/png": "[encoded data removed]",
      "text/plain": [
       "<Figure size 432x288 with 1 Axes>"
      ]
     },
     "metadata": {},
     "output_type": "display_data"
    }
   ],
   "source": [
    "# Define bin size and bin intervals\n",
    "log_binsize = 0.04\n",
    "bins = 10 ** np.arange(np.log10(df['SalePrice'].min()), np.log10(df['SalePrice'].max())+log_binsize, log_binsize)\n",
    "\n",
    "# Plot distribution of house price on a log-scale\n",
    "plt.hist(df['SalePrice'], bins = bins);\n",
    "plt.xscale('log')\n",
    "plt.xlabel('Sale Price');\n",
    "plt.xticks([5e4, 1e5, 2e5, 5e5, 1e6], ['50k', '100k', '200k', '500k', '1M'], rotation=90)\n",
    "plt.ylabel('Count');"
   ]
  },
  {
   "cell_type": "markdown",
   "metadata": {
    "papermill": {
     "duration": 0.02691,
     "end_time": "2021-01-01T10:35:39.537545",
     "exception": false,
     "start_time": "2021-01-01T10:35:39.510635",
     "status": "completed"
    },
    "tags": []
   },
   "source": [
    "***Finding(s)***\n",
    "> - The distribution of house price is right-skewed or positively skewed, with more houses having relatively lower prices, few having higher prices. When the distribution is plotted on a log-scale, the house price distribution looks normal, with the peak located at roughly between 150k and 200k.\n",
    "\n",
    "Apart from the house prices, the distributions of other top variables that are thought to have a substantial influence on the house price will be plotted and studied. These variables are:\n",
    "\n",
    "- LotArea, TotalBsmtSF, GrLivArea (*3 continous variables*)\n",
    "- YearBuilt, YearRemodAdd, FullBath, HalfBath, BedroomAbvGr, GarageCars, YrSold (*7 discrete variables*)\n",
    "- MSSubClass, Utilities, Neighborhood (*3 nominal variables*)\n",
    "- OverallQual, OverallCond, ExterQual, ExterCond, BsmtQual, BsmtCond, KitchenQual, Functional, GarageQual, GarageCond (*10 ordinal variables*)\n",
    "\n",
    "###** Continuous Variables\n",
    "**LotArea**"
   ]
  },
  {
   "cell_type": "code",
   "execution_count": 7,
   "metadata": {
    "execution": {
     "iopub.execute_input": "2021-01-01T10:35:39.616381Z",
     "iopub.status.busy": "2021-01-01T10:35:39.613062Z",
     "iopub.status.idle": "2021-01-01T10:35:40.680553Z",
     "shell.execute_reply": "2021-01-01T10:35:40.681420Z"
    },
    "papermill": {
     "duration": 1.116261,
     "end_time": "2021-01-01T10:35:40.681654",
     "exception": false,
     "start_time": "2021-01-01T10:35:39.565393",
     "status": "completed"
    },
    "tags": []
   },
   "outputs": [
    {
     "data": {
      "image/png": "[encoded data removed]",
      "text/plain": [
       "<Figure size 432x288 with 1 Axes>"
      ]
     },
     "metadata": {},
     "output_type": "display_data"
    },
    {
     "data": {
      "image/png": "[encoded data removed]",
      "text/plain": [
       "<Figure size 432x288 with 1 Axes>"
      ]
     },
     "metadata": {},
     "output_type": "display_data"
    }
   ],
   "source": [
    "# Define bin size and bin intervals\n",
    "binsize = 1000\n",
    "bins = np.arange(df['LotArea'].min(), df['LotArea'].max()+binsize, binsize)\n",
    "\n",
    "# Plot distribution of LotArea\n",
    "plt.figure(0);\n",
    "plt.hist(df['LotArea'], bins = bins);\n",
    "plt.title('Distribution of LotArea');\n",
    "plt.xlabel('LotArea');\n",
    "plt.xticks(rotation=90);\n",
    "plt.ylabel('Count');\n",
    "\n",
    "# Plot distribution of LotArea without extremely large values\n",
    "\n",
    "# Define bin size and bin intervals\n",
    "max_value = 30000\n",
    "bins = np.arange(df['LotArea'].min(), max_value+binsize, binsize)\n",
    "\n",
    "# Plot distribution of LotArea\n",
    "plt.figure(1);\n",
    "plt.hist(df['LotArea'], bins = bins);\n",
    "plt.title('Distribution of LotArea without Large Values');\n",
    "plt.xlabel('LotArea');\n",
    "plt.xticks(rotation=90);\n",
    "plt.ylabel('Count');"
   ]
  },
  {
   "cell_type": "markdown",
   "metadata": {
    "papermill": {
     "duration": 0.03628,
     "end_time": "2021-01-01T10:35:40.753847",
     "exception": false,
     "start_time": "2021-01-01T10:35:40.717567",
     "status": "completed"
    },
    "tags": []
   },
   "source": [
    "***Finding(s)***\n",
    "> - As shown in the first plot above, there are a few of the houses with extremely large lot size. When plotted without large lot size values, the distribution of lot size is slightly right-skewed as shown in the second plot above, with the peak located at roughly between 75k to 100k. As the large values might be outliers, they will be looked into further in bivariate analysis.\n",
    "\n",
    "**TotalBsmtSF**"
   ]
  },
  {
   "cell_type": "code",
   "execution_count": 8,
   "metadata": {
    "execution": {
     "iopub.execute_input": "2021-01-01T10:35:40.838761Z",
     "iopub.status.busy": "2021-01-01T10:35:40.827021Z",
     "iopub.status.idle": "2021-01-01T10:35:41.241890Z",
     "shell.execute_reply": "2021-01-01T10:35:41.240996Z"
    },
    "papermill": {
     "duration": 0.458464,
     "end_time": "2021-01-01T10:35:41.242028",
     "exception": false,
     "start_time": "2021-01-01T10:35:40.783564",
     "status": "completed"
    },
    "tags": []
   },
   "outputs": [
    {
     "data": {
      "image/png": "[encoded data removed]",
      "text/plain": [
       "<Figure size 432x288 with 1 Axes>"
      ]
     },
     "metadata": {},
     "output_type": "display_data"
    }
   ],
   "source": [
    "# Define bin size and bin intervals\n",
    "binsize = 100\n",
    "bins = np.arange(df['TotalBsmtSF'].min(), df['TotalBsmtSF'].max()+binsize, binsize)\n",
    "\n",
    "# Plot distribution of TotalBsmtSF\n",
    "plt.hist(df['TotalBsmtSF'], bins = bins);\n",
    "plt.title('Distribution of TotalBsmtSF');\n",
    "plt.xlabel('TotalBsmtSF');\n",
    "plt.xticks(rotation=90);\n",
    "plt.ylabel('Count');"
   ]
  },
  {
   "cell_type": "markdown",
   "metadata": {
    "papermill": {
     "duration": 0.029518,
     "end_time": "2021-01-01T10:35:41.301331",
     "exception": false,
     "start_time": "2021-01-01T10:35:41.271813",
     "status": "completed"
    },
    "tags": []
   },
   "source": [
    "***Finding(s)***\n",
    "> - As shown in the plot above, there are a few of the houses with extremely large basement. The distribution of basement size is slightly right-skewed, with the peak located at roughly 1000. There are quite a number of houses without basement, which explains the huge spike at 0. As the large values might be outliers, they will be looked into further in bivariate analysis.\n",
    "\n",
    "**GrLivArea**"
   ]
  },
  {
   "cell_type": "code",
   "execution_count": 9,
   "metadata": {
    "execution": {
     "iopub.execute_input": "2021-01-01T10:35:41.379006Z",
     "iopub.status.busy": "2021-01-01T10:35:41.369190Z",
     "iopub.status.idle": "2021-01-01T10:35:41.689200Z",
     "shell.execute_reply": "2021-01-01T10:35:41.688640Z"
    },
    "papermill": {
     "duration": 0.358324,
     "end_time": "2021-01-01T10:35:41.689332",
     "exception": false,
     "start_time": "2021-01-01T10:35:41.331008",
     "status": "completed"
    },
    "tags": []
   },
   "outputs": [
    {
     "data": {
      "image/png": "[encoded data removed]",
      "text/plain": [
       "<Figure size 432x288 with 1 Axes>"
      ]
     },
     "metadata": {},
     "output_type": "display_data"
    }
   ],
   "source": [
    "# Define bin size and bin intervals\n",
    "binsize = 200\n",
    "bins = np.arange(df['GrLivArea'].min(), df['GrLivArea'].max()+binsize, binsize)\n",
    "\n",
    "# Plot histogram of GrLivArea\n",
    "plt.hist(df['GrLivArea'], bins = bins);\n",
    "plt.title('Distribution of GrLivArea');\n",
    "plt.xlabel('GrLivArea');\n",
    "plt.xticks(rotation=90);\n",
    "plt.ylabel('Count');"
   ]
  },
  {
   "cell_type": "markdown",
   "metadata": {
    "papermill": {
     "duration": 0.031721,
     "end_time": "2021-01-01T10:35:41.753355",
     "exception": false,
     "start_time": "2021-01-01T10:35:41.721634",
     "status": "completed"
    },
    "tags": []
   },
   "source": [
    "***Finding(s)***\n",
    "> - As shown in the plot above, there are a few of the houses with large living area. The distribution of living area is slightly right-skewed, with the peak located at roughly 1500. As the large values might be outliers, they will be looked into further in bivariate analysis.\n",
    "\n",
    "### Discrete Variables\n",
    "\n",
    "**YearBuilt, YearRemodAdd, YrSold**"
   ]
  },
  {
   "cell_type": "code",
   "execution_count": 10,
   "metadata": {
    "execution": {
     "iopub.execute_input": "2021-01-01T10:35:41.836374Z",
     "iopub.status.busy": "2021-01-01T10:35:41.835056Z",
     "iopub.status.idle": "2021-01-01T10:35:42.368410Z",
     "shell.execute_reply": "2021-01-01T10:35:42.367731Z"
    },
    "papermill": {
     "duration": 0.584573,
     "end_time": "2021-01-01T10:35:42.368521",
     "exception": false,
     "start_time": "2021-01-01T10:35:41.783948",
     "status": "completed"
    },
    "tags": []
   },
   "outputs": [
    {
     "data": {
      "image/png": "[encoded data removed]",
      "text/plain": [
       "<Figure size 576x720 with 1 Axes>"
      ]
     },
     "metadata": {},
     "output_type": "display_data"
    }
   ],
   "source": [
    "# Define bin size and bin intervals\n",
    "binsize = 5\n",
    "min_year = min(df['YearBuilt'].min(), df['YearRemodAdd'].min(), df['YrSold'].min())\n",
    "max_year = max(df['YearBuilt'].max(), df['YearRemodAdd'].max(), df['YrSold'].max())\n",
    "bins = np.arange(min_year, max_year+binsize, binsize)\n",
    "\n",
    "# Plot distribution of YearBuilt, YearRemodAdd, YrSold\n",
    "plt.figure(figsize=[8, 10])\n",
    "plt.hist(df['YearBuilt'], bins=bins, alpha = 0.7);\n",
    "plt.hist(df['YearRemodAdd'], bins=bins, alpha = 0.5);\n",
    "plt.hist(df['YrSold'], bins=bins, alpha=0.5);\n",
    "plt.title('Distribution of YearBuilt, YearRemodAdd, YrSold')\n",
    "plt.xlabel('Year');\n",
    "plt.ylabel('Count');\n",
    "plt.legend(['YearBuilt', 'YearRemodAdd', 'YrSold']);"
   ]
  },
  {
   "cell_type": "markdown",
   "metadata": {
    "papermill": {
     "duration": 0.031558,
     "end_time": "2021-01-01T10:35:42.432549",
     "exception": false,
     "start_time": "2021-01-01T10:35:42.400991",
     "status": "completed"
    },
    "tags": []
   },
   "source": [
    "***Finding(s)***\n",
    "> Based on the distribution shown in the plot above, the following observations are made.\n",
    "- The distribution of YearBuilt is multimodal, which suggests that large housing development happened every few years.\n",
    "- There is a small number of houses that are built at the end of the 19th century (around 1880), which is much earlier than most the houses in this dataset.\n",
    "- The distribution of YearRemodAdd is bimodal (or multimodal), which suggests that remodellings were carried out every few years.\n",
    "- The first huge spike (as indicated by the first orange bar) in the distribution of YearRemodAdd shows that many houses underwent remodelling somewhere around 1950. However, it is unclear why this is observed.\n",
    "- All the houses are sold around the same time, which was in the 21st century.\n",
    "- The distributions of YearBuilt and YearRemodAdd are multimodal, with the peaks and and troughs occuring around the same time. The distributions of YearBuilt and YearRemodAdd may be explained by economic cycle, where peaks correspond to economic booms and troughs correspond to economic recessions.\n",
    "\n",
    "**FullBath and HalfBath**"
   ]
  },
  {
   "cell_type": "code",
   "execution_count": 11,
   "metadata": {
    "execution": {
     "iopub.execute_input": "2021-01-01T10:35:42.510525Z",
     "iopub.status.busy": "2021-01-01T10:35:42.506212Z",
     "iopub.status.idle": "2021-01-01T10:35:42.817880Z",
     "shell.execute_reply": "2021-01-01T10:35:42.817179Z"
    },
    "papermill": {
     "duration": 0.353264,
     "end_time": "2021-01-01T10:35:42.818006",
     "exception": false,
     "start_time": "2021-01-01T10:35:42.464742",
     "status": "completed"
    },
    "tags": []
   },
   "outputs": [
    {
     "data": {
      "image/png": "[encoded data removed]",
      "text/plain": [
       "<Figure size 360x360 with 1 Axes>"
      ]
     },
     "metadata": {},
     "output_type": "display_data"
    }
   ],
   "source": [
    "# Define bin size and bin intervals\n",
    "binsize = 1\n",
    "bins = np.arange(df['FullBath'].min(), df['FullBath'].max()+binsize, binsize)\n",
    "\n",
    "# Plot distribution of FullBath and HalfBath\n",
    "plt.figure(figsize=[5, 5])\n",
    "plt.hist(df['FullBath'], bins=bins, alpha = 0.5);\n",
    "plt.hist(df['HalfBath'], bins=bins, alpha = 0.5);\n",
    "plt.title('Distribution of FullBath, HalfBath')\n",
    "plt.xlabel('FullBath/HalfBath');\n",
    "plt.ylabel('Count');\n",
    "plt.legend(['FullBath', 'HalfBath']);"
   ]
  },
  {
   "cell_type": "code",
   "execution_count": 12,
   "metadata": {
    "execution": {
     "iopub.execute_input": "2021-01-01T10:35:42.891170Z",
     "iopub.status.busy": "2021-01-01T10:35:42.890508Z",
     "iopub.status.idle": "2021-01-01T10:35:42.923733Z",
     "shell.execute_reply": "2021-01-01T10:35:42.923110Z"
    },
    "papermill": {
     "duration": 0.07177,
     "end_time": "2021-01-01T10:35:42.923856",
     "exception": false,
     "start_time": "2021-01-01T10:35:42.852086",
     "status": "completed"
    },
    "tags": []
   },
   "outputs": [
    {
     "data": {
      "text/plain": [
       "9"
      ]
     },
     "execution_count": 12,
     "metadata": {},
     "output_type": "execute_result"
    }
   ],
   "source": [
    "# Get number of houses without FullBath\n",
    "len(df[df['FullBath'] == 0])"
   ]
  },
  {
   "cell_type": "markdown",
   "metadata": {
    "papermill": {
     "duration": 0.033239,
     "end_time": "2021-01-01T10:35:42.991005",
     "exception": false,
     "start_time": "2021-01-01T10:35:42.957766",
     "status": "completed"
    },
    "tags": []
   },
   "source": [
    "***Finding(s)***\n",
    "> - Based on the distribution, almost all the houses have 1 or 2 FullBaths, with the exception of 9 houses. Most of the houses do not have HalfBath, and when they do, most of them have only 1 HalfBath. Lastyly, it is uncommon that a house has no FullBath or more than 1 HalfBath. \n",
    "\n",
    "\n",
    "**BedroomAbvGr**"
   ]
  },
  {
   "cell_type": "code",
   "execution_count": 13,
   "metadata": {
    "execution": {
     "iopub.execute_input": "2021-01-01T10:35:43.073322Z",
     "iopub.status.busy": "2021-01-01T10:35:43.072228Z",
     "iopub.status.idle": "2021-01-01T10:35:43.394189Z",
     "shell.execute_reply": "2021-01-01T10:35:43.393557Z"
    },
    "papermill": {
     "duration": 0.370087,
     "end_time": "2021-01-01T10:35:43.394344",
     "exception": false,
     "start_time": "2021-01-01T10:35:43.024257",
     "status": "completed"
    },
    "tags": []
   },
   "outputs": [
    {
     "data": {
      "image/png": "[encoded data removed]",
      "text/plain": [
       "<Figure size 432x288 with 1 Axes>"
      ]
     },
     "metadata": {},
     "output_type": "display_data"
    }
   ],
   "source": [
    "# Define bin size and bin intervals\n",
    "binsize = 1\n",
    "bins = np.arange(df['BedroomAbvGr'].min(), df['BedroomAbvGr'].max()+binsize, binsize)\n",
    "\n",
    "# Plot distribution of BedroomAbvGr\n",
    "plt.hist(df['BedroomAbvGr'], bins=bins);\n",
    "plt.title('Distribution of BedroomAbvGr')\n",
    "plt.xlabel('BedroomAbvGr');\n",
    "plt.ylabel('Count');"
   ]
  },
  {
   "cell_type": "markdown",
   "metadata": {
    "papermill": {
     "duration": 0.033863,
     "end_time": "2021-01-01T10:35:43.462424",
     "exception": false,
     "start_time": "2021-01-01T10:35:43.428561",
     "status": "completed"
    },
    "tags": []
   },
   "source": [
    "***Finding(s)***\n",
    "> - The distribution of BedroomAbvGr is slightly right-skewed, with the peak located at 3.\n",
    "\n",
    "\n",
    "**GarageCars**"
   ]
  },
  {
   "cell_type": "code",
   "execution_count": 14,
   "metadata": {
    "execution": {
     "iopub.execute_input": "2021-01-01T10:35:43.551187Z",
     "iopub.status.busy": "2021-01-01T10:35:43.539179Z",
     "iopub.status.idle": "2021-01-01T10:35:43.856776Z",
     "shell.execute_reply": "2021-01-01T10:35:43.857293Z"
    },
    "papermill": {
     "duration": 0.360828,
     "end_time": "2021-01-01T10:35:43.857459",
     "exception": false,
     "start_time": "2021-01-01T10:35:43.496631",
     "status": "completed"
    },
    "tags": []
   },
   "outputs": [
    {
     "data": {
      "image/png": "[encoded data removed]",
      "text/plain": [
       "<Figure size 432x288 with 1 Axes>"
      ]
     },
     "metadata": {},
     "output_type": "display_data"
    }
   ],
   "source": [
    "# Define bin size and bin intervals\n",
    "binsize = 1\n",
    "bins = np.arange(df['GarageCars'].min(), df['GarageCars'].max()+binsize, binsize)\n",
    "\n",
    "# Plot distribution of BedroomAbvGr\n",
    "plt.hist(df['GarageCars'], bins=bins);\n",
    "plt.title('Distribution of GarageCars')\n",
    "plt.xlabel('GarageCars');\n",
    "plt.ylabel('Count');"
   ]
  },
  {
   "cell_type": "markdown",
   "metadata": {
    "papermill": {
     "duration": 0.035553,
     "end_time": "2021-01-01T10:35:43.933815",
     "exception": false,
     "start_time": "2021-01-01T10:35:43.898262",
     "status": "completed"
    },
    "tags": []
   },
   "source": [
    "***Finding(s)***\n",
    "> - The distribution of GarageCars is slightly left-skewed, with the peak located at 2. Less than 100 houses do not have garage.\n",
    "\n",
    "### Nominal Variables\n",
    "\n",
    "**MSSubClass, Utilities, Neighborhood**"
   ]
  },
  {
   "cell_type": "code",
   "execution_count": 15,
   "metadata": {
    "execution": {
     "iopub.execute_input": "2021-01-01T10:35:44.016506Z",
     "iopub.status.busy": "2021-01-01T10:35:44.015644Z",
     "iopub.status.idle": "2021-01-01T10:35:44.393989Z",
     "shell.execute_reply": "2021-01-01T10:35:44.393262Z"
    },
    "papermill": {
     "duration": 0.425137,
     "end_time": "2021-01-01T10:35:44.394116",
     "exception": false,
     "start_time": "2021-01-01T10:35:43.968979",
     "status": "completed"
    },
    "tags": []
   },
   "outputs": [
    {
     "data": {
      "image/png": "[encoded data removed]",
      "text/plain": [
       "<Figure size 432x288 with 1 Axes>"
      ]
     },
     "metadata": {},
     "output_type": "display_data"
    }
   ],
   "source": [
    "# Define color for countplot\n",
    "default_color = sns.color_palette()[0]\n",
    "\n",
    "# Plot distribution of MSSubClass\n",
    "sns.countplot(df['MSSubClass'], order=df['MSSubClass'].value_counts().index, color=default_color);\n",
    "plt.title('Distribution of MSSubClass');\n",
    "plt.ylabel('Count');"
   ]
  },
  {
   "cell_type": "code",
   "execution_count": 16,
   "metadata": {
    "execution": {
     "iopub.execute_input": "2021-01-01T10:35:44.482606Z",
     "iopub.status.busy": "2021-01-01T10:35:44.477280Z",
     "iopub.status.idle": "2021-01-01T10:35:44.615726Z",
     "shell.execute_reply": "2021-01-01T10:35:44.615104Z"
    },
    "papermill": {
     "duration": 0.185103,
     "end_time": "2021-01-01T10:35:44.615849",
     "exception": false,
     "start_time": "2021-01-01T10:35:44.430746",
     "status": "completed"
    },
    "tags": []
   },
   "outputs": [
    {
     "data": {
      "image/png": "[encoded data removed]",
      "text/plain": [
       "<Figure size 432x288 with 1 Axes>"
      ]
     },
     "metadata": {},
     "output_type": "display_data"
    }
   ],
   "source": [
    "# Plot distribution of Utilities\n",
    "sns.countplot(df['Utilities'], order=df['Utilities'].value_counts().index, color=default_color);\n",
    "plt.title('Distribution of Utilities');\n",
    "plt.ylabel('Count');"
   ]
  },
  {
   "cell_type": "code",
   "execution_count": 17,
   "metadata": {
    "execution": {
     "iopub.execute_input": "2021-01-01T10:35:44.697695Z",
     "iopub.status.busy": "2021-01-01T10:35:44.696817Z",
     "iopub.status.idle": "2021-01-01T10:35:45.067313Z",
     "shell.execute_reply": "2021-01-01T10:35:45.067972Z"
    },
    "papermill": {
     "duration": 0.415154,
     "end_time": "2021-01-01T10:35:45.068118",
     "exception": false,
     "start_time": "2021-01-01T10:35:44.652964",
     "status": "completed"
    },
    "tags": []
   },
   "outputs": [
    {
     "data": {
      "image/png": "[encoded data removed]",
      "text/plain": [
       "<Figure size 648x648 with 1 Axes>"
      ]
     },
     "metadata": {},
     "output_type": "display_data"
    }
   ],
   "source": [
    "# Plot distribution of Neighborhood\n",
    "plt.figure(figsize=[9,9])\n",
    "sns.countplot(y=df['Neighborhood'], order=df['Neighborhood'].value_counts().index, color=default_color);\n",
    "plt.title('Distribution of Neighborhood');\n",
    "plt.xticks(rotation=90);\n",
    "plt.xlabel('Count');"
   ]
  },
  {
   "cell_type": "markdown",
   "metadata": {
    "papermill": {
     "duration": 0.038306,
     "end_time": "2021-01-01T10:35:45.145078",
     "exception": false,
     "start_time": "2021-01-01T10:35:45.106772",
     "status": "completed"
    },
    "tags": []
   },
   "source": [
    "***Finding(s)***\n",
    "> Based on the three plots above, the following findings are found.\n",
    "- The most common MSSubClass is 20 (1-STORY 1946 & NEWER ALL STYLES), and the least common one is 40 (1-STORY W/FINISHED ATTIC ALL AGES).\n",
    "- Almost all the houses have all the public utilities (AllPub), with the exception of several houses having electricity and gas only (NoSeWa). Thus, Utilities is very likely to have no or close to zero influence on the house price. This hypothesis will be verified in bivariate analysis.\n",
    "- The most common Neighborhood is NAmes or North Ames, and the least common one is Blueste or Bluestem\n",
    "\n",
    "### Ordinal Variables"
   ]
  },
  {
   "cell_type": "code",
   "execution_count": 18,
   "metadata": {
    "execution": {
     "iopub.execute_input": "2021-01-01T10:35:45.235816Z",
     "iopub.status.busy": "2021-01-01T10:35:45.234779Z",
     "iopub.status.idle": "2021-01-01T10:35:45.254261Z",
     "shell.execute_reply": "2021-01-01T10:35:45.254872Z"
    },
    "papermill": {
     "duration": 0.070902,
     "end_time": "2021-01-01T10:35:45.255021",
     "exception": false,
     "start_time": "2021-01-01T10:35:45.184119",
     "status": "completed"
    },
    "tags": []
   },
   "outputs": [],
   "source": [
    "# Convert variables into ordered categorical types before plotting the distributions\n",
    "ordinal_var_dict = {'OverallQual': list(range(0,11)),\n",
    "                    'OverallCond': list(range(0,11)),\n",
    "                    'ExterQual': ['Po', 'Fa', 'TA', 'Gd', 'Ex'],\n",
    "                    'ExterCond': ['Po', 'Fa', 'TA', 'Gd', 'Ex'],\n",
    "                    'BsmtQual': ['NoBsmt', 'Po', 'Fa', 'TA', 'Gd', 'Ex'],\n",
    "                    'BsmtCond': ['NoBsmt', 'Po', 'Fa', 'TA', 'Gd', 'Ex'],\n",
    "                    'KitchenQual': ['Po', 'Fa', 'TA', 'Gd', 'Ex'],\n",
    "                    'Functional': ['Sal', 'Sev', 'Maj2', 'Maj1', 'Mod', 'Min2', 'Min1', 'Typ'],\n",
    "                    'GarageQual': ['NoGarage', 'Po', 'Fa', 'TA', 'Gd', 'Ex'],\n",
    "                    'GarageCond': ['NoGarage', 'Po', 'Fa', 'TA', 'Gd', 'Ex'],\n",
    "                   }\n",
    "\n",
    "for var in ordinal_var_dict:\n",
    "    ordered_var = pd.api.types.CategoricalDtype(ordered = True, categories = ordinal_var_dict[var])\n",
    "    df[var] = df[var].astype(ordered_var)"
   ]
  },
  {
   "cell_type": "markdown",
   "metadata": {
    "papermill": {
     "duration": 0.038975,
     "end_time": "2021-01-01T10:35:45.333498",
     "exception": false,
     "start_time": "2021-01-01T10:35:45.294523",
     "status": "completed"
    },
    "tags": []
   },
   "source": [
    "**OverallQual, OverallCond, ExterQual, ExterCond, BsmtQual, BsmtCond, GarageQual & GarageCond**"
   ]
  },
  {
   "cell_type": "code",
   "execution_count": 19,
   "metadata": {
    "execution": {
     "iopub.execute_input": "2021-01-01T10:35:45.419749Z",
     "iopub.status.busy": "2021-01-01T10:35:45.418916Z",
     "iopub.status.idle": "2021-01-01T10:35:45.884055Z",
     "shell.execute_reply": "2021-01-01T10:35:45.883454Z"
    },
    "papermill": {
     "duration": 0.511862,
     "end_time": "2021-01-01T10:35:45.884173",
     "exception": false,
     "start_time": "2021-01-01T10:35:45.372311",
     "status": "completed"
    },
    "tags": []
   },
   "outputs": [
    {
     "data": {
      "image/png": "[encoded data removed]",
      "text/plain": [
       "<Figure size 1080x360 with 2 Axes>"
      ]
     },
     "metadata": {},
     "output_type": "display_data"
    }
   ],
   "source": [
    "# Plot distribution of OverallQual\n",
    "plt.figure(figsize=[15,5])\n",
    "plt.subplot(1,2,1)\n",
    "sns.countplot(df['OverallQual'], color=default_color);\n",
    "plt.title('Distribution of OverallQual');\n",
    "plt.ylabel('Count');\n",
    "\n",
    "# Plot distribution of OverallCond\n",
    "plt.subplot(1,2,2)\n",
    "sns.countplot(df['OverallCond'], color=default_color);\n",
    "plt.title('Distribution of OverallCond');\n",
    "plt.ylabel('Count');"
   ]
  },
  {
   "cell_type": "code",
   "execution_count": 20,
   "metadata": {
    "execution": {
     "iopub.execute_input": "2021-01-01T10:35:45.968755Z",
     "iopub.status.busy": "2021-01-01T10:35:45.967992Z",
     "iopub.status.idle": "2021-01-01T10:35:46.287440Z",
     "shell.execute_reply": "2021-01-01T10:35:46.288015Z"
    },
    "papermill": {
     "duration": 0.363999,
     "end_time": "2021-01-01T10:35:46.288167",
     "exception": false,
     "start_time": "2021-01-01T10:35:45.924168",
     "status": "completed"
    },
    "tags": []
   },
   "outputs": [
    {
     "data": {
      "image/png": "[encoded data removed]",
      "text/plain": [
       "<Figure size 1080x360 with 2 Axes>"
      ]
     },
     "metadata": {},
     "output_type": "display_data"
    }
   ],
   "source": [
    "# Plot distribution of ExterQual\n",
    "plt.figure(figsize=[15,5])\n",
    "plt.subplot(1,2,1)\n",
    "sns.countplot(df['ExterQual'], color=default_color);\n",
    "plt.title('Distribution of ExterQual');\n",
    "plt.ylabel('Count');\n",
    "\n",
    "# Plot distribution of ExterCond\n",
    "plt.subplot(1,2,2)\n",
    "sns.countplot(df['ExterCond'], color=default_color);\n",
    "plt.title('Distribution of ExterCond');\n",
    "plt.ylabel('Count');"
   ]
  },
  {
   "cell_type": "code",
   "execution_count": 21,
   "metadata": {
    "execution": {
     "iopub.execute_input": "2021-01-01T10:35:46.374300Z",
     "iopub.status.busy": "2021-01-01T10:35:46.373554Z",
     "iopub.status.idle": "2021-01-01T10:35:46.742775Z",
     "shell.execute_reply": "2021-01-01T10:35:46.742046Z"
    },
    "papermill": {
     "duration": 0.413804,
     "end_time": "2021-01-01T10:35:46.742899",
     "exception": false,
     "start_time": "2021-01-01T10:35:46.329095",
     "status": "completed"
    },
    "tags": []
   },
   "outputs": [
    {
     "data": {
      "image/png": "[encoded data removed]",
      "text/plain": [
       "<Figure size 1080x360 with 2 Axes>"
      ]
     },
     "metadata": {},
     "output_type": "display_data"
    }
   ],
   "source": [
    "# Plot distribution of BsmtQual\n",
    "plt.figure(figsize=[15,5])\n",
    "plt.subplot(1,2,1)\n",
    "sns.countplot(df['BsmtQual'], color=default_color);\n",
    "plt.title('Distribution of BsmtQual');\n",
    "plt.ylabel('Count');\n",
    "\n",
    "# Plot distribution of BsmtCond\n",
    "plt.subplot(1,2,2)\n",
    "sns.countplot(df['BsmtCond'], color=default_color);\n",
    "plt.title('Distribution of BsmtCond');\n",
    "plt.ylabel('Count');"
   ]
  },
  {
   "cell_type": "code",
   "execution_count": 22,
   "metadata": {
    "execution": {
     "iopub.execute_input": "2021-01-01T10:35:46.841767Z",
     "iopub.status.busy": "2021-01-01T10:35:46.836299Z",
     "iopub.status.idle": "2021-01-01T10:35:47.177772Z",
     "shell.execute_reply": "2021-01-01T10:35:47.177067Z"
    },
    "papermill": {
     "duration": 0.392688,
     "end_time": "2021-01-01T10:35:47.177894",
     "exception": false,
     "start_time": "2021-01-01T10:35:46.785206",
     "status": "completed"
    },
    "tags": []
   },
   "outputs": [
    {
     "data": {
      "image/png": "[encoded data removed]",
      "text/plain": [
       "<Figure size 1080x360 with 2 Axes>"
      ]
     },
     "metadata": {},
     "output_type": "display_data"
    }
   ],
   "source": [
    "# Plot distribution of GarageQual\n",
    "plt.figure(figsize=[15,5])\n",
    "plt.subplot(1,2,1)\n",
    "sns.countplot(df['GarageQual'], color=default_color);\n",
    "plt.title('Distribution of GarageQual');\n",
    "plt.ylabel('Count');\n",
    "\n",
    "# Plot distribution of GarageCond\n",
    "plt.subplot(1,2,2)\n",
    "sns.countplot(df['GarageCond'], color=default_color);\n",
    "plt.title('Distribution of GarageCond');\n",
    "plt.ylabel('Count');"
   ]
  },
  {
   "cell_type": "markdown",
   "metadata": {
    "papermill": {
     "duration": 0.043263,
     "end_time": "2021-01-01T10:35:47.268214",
     "exception": false,
     "start_time": "2021-01-01T10:35:47.224951",
     "status": "completed"
    },
    "tags": []
   },
   "source": [
    "***Finding(s)***\n",
    "> Based on the plots above, the following findings are found.\n",
    "- Both the distribution of OverallQual and Overall Cond are right-skewed. Most of the houses have average quality (OverallQual) and condition (OverallCond) as the ratings of quality and condition for most of the houses are 5.\n",
    "- Most of the houses have average (TA) or better (Gd & Ex) external quality (ExterQual), external condition (ExterCond), basement quality (BsmtQuality), basement condition (BsmtCond), garage quality (GarageQual), garage condition (GarageCond).\n",
    "- For most of the houses, the quality is better than the condition, apart from the garage.\n",
    "- As almost all the houses have average(TA) ExterCond, BsmtCond, GarageQual and GarageCond, it is very likely that these variables will have zero or close to zero influences on the house price. This hypothesis will be verified in bivariate analysis.\n",
    "\n",
    "**KitchenQual & Functional**"
   ]
  },
  {
   "cell_type": "code",
   "execution_count": 23,
   "metadata": {
    "execution": {
     "iopub.execute_input": "2021-01-01T10:35:47.371360Z",
     "iopub.status.busy": "2021-01-01T10:35:47.370134Z",
     "iopub.status.idle": "2021-01-01T10:35:47.728204Z",
     "shell.execute_reply": "2021-01-01T10:35:47.727602Z"
    },
    "papermill": {
     "duration": 0.417173,
     "end_time": "2021-01-01T10:35:47.728371",
     "exception": false,
     "start_time": "2021-01-01T10:35:47.311198",
     "status": "completed"
    },
    "tags": []
   },
   "outputs": [
    {
     "data": {
      "image/png": "[encoded data removed]",
      "text/plain": [
       "<Figure size 1080x360 with 2 Axes>"
      ]
     },
     "metadata": {},
     "output_type": "display_data"
    }
   ],
   "source": [
    "# Plot distribution of KitchenQual\n",
    "plt.figure(figsize=[15,5])\n",
    "plt.subplot(1,2,1)\n",
    "sns.countplot(df['KitchenQual'], color=default_color);\n",
    "plt.title('Distribution of KitchenQual');\n",
    "plt.ylabel('Count');\n",
    "\n",
    "# Plot distribution of Functional\n",
    "plt.subplot(1,2,2)\n",
    "sns.countplot(df['Functional'], color=default_color);\n",
    "plt.title('Distribution of Functional');\n",
    "plt.ylabel('Count');"
   ]
  },
  {
   "cell_type": "markdown",
   "metadata": {
    "papermill": {
     "duration": 0.045798,
     "end_time": "2021-01-01T10:35:47.819565",
     "exception": false,
     "start_time": "2021-01-01T10:35:47.773767",
     "status": "completed"
    },
    "tags": []
   },
   "source": [
    "***Finding(s)***\n",
    "> Based on the plots above, the following findings are found.\n",
    "- Most of the houses have average (TA) or better (Gd & Ex) kitchen quality (KitchenQual)\n",
    "- As almost all the houses have typical (Typ) home functionality (Functional), it is very likely that this variable will have zero or close to zero influences on the house price. This hypothesis will be verified in bivariate analysis.\n",
    "\n",
    "### Univariate Analysis Summary*\n",
    "\n",
    "Based on all the univariate plots, the following important findings are found.\n",
    "- The distribution of house price is right-skewed. On a log-scale, the distribution looks normal. Thus, house price must be transformed before using it to train a machine learning model.\n",
    "- There are some large values in LotArea, TotalBsmtSF, GrLivArea. As these values might be outliers, they will be looked into further in bivariate analysis.\n",
    "- Utilities, ExterCond, BsmtCond, GarageQual, GarageCond and Functional are likely to have little to no influence on the house price. This hypothesis will be verified in bivariate analysis.\n",
    "\n",
    "*Note: Univariate analysis is only performed on features/variables that are thought to have a substantial influence on the house price. Thus, univariate analysis summary does not cover all the variables. Bivariate analysis will look into the relationships between all the variables with the house price."
   ]
  }
 ],
 "metadata": {
  "kernelspec": {
   "display_name": "Python 3",
   "language": "python",
   "name": "python3"
  },
  "language_info": {
   "codemirror_mode": {
    "name": "ipython",
    "version": 3
   },
   "file_extension": ".py",
   "mimetype": "text/x-python",
   "name": "python",
   "nbconvert_exporter": "python",
   "pygments_lexer": "ipython3",
   "version": "3.7.6"
  },
  "papermill": {
   "duration": 16.986699,
   "end_time": "2021-01-01T10:35:47.972819",
   "environment_variables": {},
   "exception": null,
   "input_path": "__notebook__.ipynb",
   "output_path": "__notebook__.ipynb",
   "parameters": {},
   "start_time": "2021-01-01T10:35:30.986120",
   "version": "2.1.0"
  }
 },
 "nbformat": 4,
 "nbformat_minor": 4
}
